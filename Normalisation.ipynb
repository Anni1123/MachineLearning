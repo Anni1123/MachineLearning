{
  "nbformat": 4,
  "nbformat_minor": 0,
  "metadata": {
    "colab": {
      "name": "Normalisation.ipynb",
      "provenance": [],
      "mount_file_id": "1VxOMPjEOq4Ro-3Vi6inTgxiHsm_GIBea",
      "authorship_tag": "ABX9TyOUsqvU666xC3jZLDT/CMAk",
      "include_colab_link": true
    },
    "kernelspec": {
      "name": "python3",
      "display_name": "Python 3"
    }
  },
  "cells": [
    {
      "cell_type": "markdown",
      "metadata": {
        "id": "view-in-github",
        "colab_type": "text"
      },
      "source": [
        "<a href=\"https://colab.research.google.com/github/Anni1123/MachineLearning/blob/master/Normalisation.ipynb\" target=\"_parent\"><img src=\"https://colab.research.google.com/assets/colab-badge.svg\" alt=\"Open In Colab\"/></a>"
      ]
    },
    {
      "cell_type": "code",
      "metadata": {
        "colab": {
          "base_uri": "https://localhost:8080/"
        },
        "id": "rZTgGurzFdFx",
        "outputId": "aad5fd55-37bf-43fb-8293-d2f5fb1bbbb2"
      },
      "source": [
        "from google.colab import drive\r\n",
        "drive.mount('/content/drive')"
      ],
      "execution_count": 1,
      "outputs": [
        {
          "output_type": "stream",
          "text": [
            "Drive already mounted at /content/drive; to attempt to forcibly remount, call drive.mount(\"/content/drive\", force_remount=True).\n"
          ],
          "name": "stdout"
        }
      ]
    },
    {
      "cell_type": "code",
      "metadata": {
        "id": "2rplJ07MF2FD"
      },
      "source": [
        "text_files = '/content/drive/My Drive/Sound/Respiratory_Sound_Database/audio_and_txt_files/*.txt'"
      ],
      "execution_count": 15,
      "outputs": []
    },
    {
      "cell_type": "code",
      "metadata": {
        "colab": {
          "base_uri": "https://localhost:8080/"
        },
        "id": "gfiv7ViCHPWe",
        "outputId": "5e18d2aa-0098-47aa-8f10-3c440c076075"
      },
      "source": [
        "print(text_files)"
      ],
      "execution_count": 14,
      "outputs": [
        {
          "output_type": "stream",
          "text": [
            "/content/drive/My Drive/Sound/Respiratory_Sound_Database/audio_and_txt_files/\n"
          ],
          "name": "stdout"
        }
      ]
    }
  ]
}