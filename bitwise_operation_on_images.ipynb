{
 "cells": [
  {
   "cell_type": "code",
   "execution_count": null,
   "metadata": {},
   "outputs": [],
   "source": [
    "import numpy as np\n",
    "import cv2\n",
    "img1=np.zeros((250,500,3), np.uint8)\n",
    "img1=cv2.rectangle(img1,(200,0),(300,100),(255,255,255),-1)\n",
    "img2=cv2.imread(\"ml.png\")\n",
    "img1=cv2.resize(img1,(512,512))\n",
    "img2=cv2.resize(img2,(512,512))\n",
    "#bitxor = cv2.bitwise_xor(img2, img1)\n",
    "#bitAnd = cv2.bitwise_and(img2, img1)\n",
    "#bitor = cv2.bitwise_or(img2, img1)\n",
    "bitnot = cv2.bitwise_not(img1)\n",
    "bitnot1 = cv2.bitwise_not(img2)\n",
    "cv2.imshow(\"img1\",img1)\n",
    "cv2.imshow(\"img2\",img2)\n",
    "cv2.imshow(\"bit\",bitnot)\n",
    "cv2.imshow(\"bit\",bitnot1)\n",
    "cv2.waitKey(0)\n",
    "cv2.destroyAllWindows()"
   ]
  }
 ],
 "metadata": {
  "kernelspec": {
   "display_name": "Python 3",
   "language": "python",
   "name": "python3"
  },
  "language_info": {
   "codemirror_mode": {
    "name": "ipython",
    "version": 3
   },
   "file_extension": ".py",
   "mimetype": "text/x-python",
   "name": "python",
   "nbconvert_exporter": "python",
   "pygments_lexer": "ipython3",
   "version": "3.7.4"
  }
 },
 "nbformat": 4,
 "nbformat_minor": 2
}
