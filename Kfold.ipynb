{
  "nbformat": 4,
  "nbformat_minor": 0,
  "metadata": {
    "colab": {
      "name": "Kfold.ipynb",
      "provenance": [],
      "collapsed_sections": [],
      "mount_file_id": "1iVwbaKKEpv0sWuRfk0ZUhdSyL2Q_xw_M",
      "authorship_tag": "ABX9TyMHuJ6Rn8ZKe9rrnSqN4RLH",
      "include_colab_link": true
    },
    "kernelspec": {
      "name": "python3",
      "display_name": "Python 3"
    }
  },
  "cells": [
    {
      "cell_type": "markdown",
      "metadata": {
        "id": "view-in-github",
        "colab_type": "text"
      },
      "source": [
        "<a href=\"https://colab.research.google.com/github/Anni1123/MachineLearning/blob/master/Kfold.ipynb\" target=\"_parent\"><img src=\"https://colab.research.google.com/assets/colab-badge.svg\" alt=\"Open In Colab\"/></a>"
      ]
    },
    {
      "cell_type": "code",
      "metadata": {
        "id": "bXTLfF5xlrAM"
      },
      "source": [
        "import pandas as pd\r\n",
        "df = pd.read_csv('drive/MyDrive/income_evaluation.csv', na_values=' ?')"
      ],
      "execution_count": 20,
      "outputs": []
    },
    {
      "cell_type": "code",
      "metadata": {
        "colab": {
          "base_uri": "https://localhost:8080/",
          "height": 279
        },
        "id": "RTFreJSGmyA3",
        "outputId": "0990bf07-7586-4948-ab9f-70bbd6915b16"
      },
      "source": [
        "df.head()"
      ],
      "execution_count": 21,
      "outputs": [
        {
          "output_type": "execute_result",
          "data": {
            "text/html": [
              "<div>\n",
              "<style scoped>\n",
              "    .dataframe tbody tr th:only-of-type {\n",
              "        vertical-align: middle;\n",
              "    }\n",
              "\n",
              "    .dataframe tbody tr th {\n",
              "        vertical-align: top;\n",
              "    }\n",
              "\n",
              "    .dataframe thead th {\n",
              "        text-align: right;\n",
              "    }\n",
              "</style>\n",
              "<table border=\"1\" class=\"dataframe\">\n",
              "  <thead>\n",
              "    <tr style=\"text-align: right;\">\n",
              "      <th></th>\n",
              "      <th>age</th>\n",
              "      <th>workclass</th>\n",
              "      <th>fnlwgt</th>\n",
              "      <th>education</th>\n",
              "      <th>education-num</th>\n",
              "      <th>marital-status</th>\n",
              "      <th>occupation</th>\n",
              "      <th>relationship</th>\n",
              "      <th>race</th>\n",
              "      <th>sex</th>\n",
              "      <th>capital-gain</th>\n",
              "      <th>capital-loss</th>\n",
              "      <th>hours-per-week</th>\n",
              "      <th>native-country</th>\n",
              "      <th>income</th>\n",
              "    </tr>\n",
              "  </thead>\n",
              "  <tbody>\n",
              "    <tr>\n",
              "      <th>0</th>\n",
              "      <td>39</td>\n",
              "      <td>State-gov</td>\n",
              "      <td>77516</td>\n",
              "      <td>Bachelors</td>\n",
              "      <td>13</td>\n",
              "      <td>Never-married</td>\n",
              "      <td>Adm-clerical</td>\n",
              "      <td>Not-in-family</td>\n",
              "      <td>White</td>\n",
              "      <td>Male</td>\n",
              "      <td>2174</td>\n",
              "      <td>0</td>\n",
              "      <td>40</td>\n",
              "      <td>United-States</td>\n",
              "      <td>&lt;=50K</td>\n",
              "    </tr>\n",
              "    <tr>\n",
              "      <th>1</th>\n",
              "      <td>50</td>\n",
              "      <td>Self-emp-not-inc</td>\n",
              "      <td>83311</td>\n",
              "      <td>Bachelors</td>\n",
              "      <td>13</td>\n",
              "      <td>Married-civ-spouse</td>\n",
              "      <td>Exec-managerial</td>\n",
              "      <td>Husband</td>\n",
              "      <td>White</td>\n",
              "      <td>Male</td>\n",
              "      <td>0</td>\n",
              "      <td>0</td>\n",
              "      <td>13</td>\n",
              "      <td>United-States</td>\n",
              "      <td>&lt;=50K</td>\n",
              "    </tr>\n",
              "    <tr>\n",
              "      <th>2</th>\n",
              "      <td>38</td>\n",
              "      <td>Private</td>\n",
              "      <td>215646</td>\n",
              "      <td>HS-grad</td>\n",
              "      <td>9</td>\n",
              "      <td>Divorced</td>\n",
              "      <td>Handlers-cleaners</td>\n",
              "      <td>Not-in-family</td>\n",
              "      <td>White</td>\n",
              "      <td>Male</td>\n",
              "      <td>0</td>\n",
              "      <td>0</td>\n",
              "      <td>40</td>\n",
              "      <td>United-States</td>\n",
              "      <td>&lt;=50K</td>\n",
              "    </tr>\n",
              "    <tr>\n",
              "      <th>3</th>\n",
              "      <td>53</td>\n",
              "      <td>Private</td>\n",
              "      <td>234721</td>\n",
              "      <td>11th</td>\n",
              "      <td>7</td>\n",
              "      <td>Married-civ-spouse</td>\n",
              "      <td>Handlers-cleaners</td>\n",
              "      <td>Husband</td>\n",
              "      <td>Black</td>\n",
              "      <td>Male</td>\n",
              "      <td>0</td>\n",
              "      <td>0</td>\n",
              "      <td>40</td>\n",
              "      <td>United-States</td>\n",
              "      <td>&lt;=50K</td>\n",
              "    </tr>\n",
              "    <tr>\n",
              "      <th>4</th>\n",
              "      <td>28</td>\n",
              "      <td>Private</td>\n",
              "      <td>338409</td>\n",
              "      <td>Bachelors</td>\n",
              "      <td>13</td>\n",
              "      <td>Married-civ-spouse</td>\n",
              "      <td>Prof-specialty</td>\n",
              "      <td>Wife</td>\n",
              "      <td>Black</td>\n",
              "      <td>Female</td>\n",
              "      <td>0</td>\n",
              "      <td>0</td>\n",
              "      <td>40</td>\n",
              "      <td>Cuba</td>\n",
              "      <td>&lt;=50K</td>\n",
              "    </tr>\n",
              "  </tbody>\n",
              "</table>\n",
              "</div>"
            ],
            "text/plain": [
              "   age          workclass   fnlwgt  ...  hours-per-week   native-country  income\n",
              "0   39          State-gov    77516  ...              40    United-States   <=50K\n",
              "1   50   Self-emp-not-inc    83311  ...              13    United-States   <=50K\n",
              "2   38            Private   215646  ...              40    United-States   <=50K\n",
              "3   53            Private   234721  ...              40    United-States   <=50K\n",
              "4   28            Private   338409  ...              40             Cuba   <=50K\n",
              "\n",
              "[5 rows x 15 columns]"
            ]
          },
          "metadata": {
            "tags": []
          },
          "execution_count": 21
        }
      ]
    },
    {
      "cell_type": "code",
      "metadata": {
        "id": "jEyCzftImzdJ"
      },
      "source": [
        "import numpy as np\r\n",
        "import time"
      ],
      "execution_count": 22,
      "outputs": []
    },
    {
      "cell_type": "code",
      "metadata": {
        "colab": {
          "base_uri": "https://localhost:8080/"
        },
        "id": "CFObOdH4m_s4",
        "outputId": "e7552170-1419-44a4-ba9c-50a7d30cd0da"
      },
      "source": [
        "df.isna().sum()"
      ],
      "execution_count": 23,
      "outputs": [
        {
          "output_type": "execute_result",
          "data": {
            "text/plain": [
              "age                   0\n",
              " workclass         1836\n",
              " fnlwgt               0\n",
              " education            0\n",
              " education-num        0\n",
              " marital-status       0\n",
              " occupation        1843\n",
              " relationship         0\n",
              " race                 0\n",
              " sex                  0\n",
              " capital-gain         0\n",
              " capital-loss         0\n",
              " hours-per-week       0\n",
              " native-country     583\n",
              " income               0\n",
              "dtype: int64"
            ]
          },
          "metadata": {
            "tags": []
          },
          "execution_count": 23
        }
      ]
    },
    {
      "cell_type": "code",
      "metadata": {
        "id": "8UbmbrxpnD5S"
      },
      "source": [
        "df.fillna('missing',inplace=True)"
      ],
      "execution_count": 24,
      "outputs": []
    },
    {
      "cell_type": "code",
      "metadata": {
        "colab": {
          "base_uri": "https://localhost:8080/"
        },
        "id": "_FWcaRsinQnE",
        "outputId": "16204a70-125b-4572-e5f1-e20be18547a7"
      },
      "source": [
        "df.isna().sum()"
      ],
      "execution_count": 25,
      "outputs": [
        {
          "output_type": "execute_result",
          "data": {
            "text/plain": [
              "age                0\n",
              " workclass         0\n",
              " fnlwgt            0\n",
              " education         0\n",
              " education-num     0\n",
              " marital-status    0\n",
              " occupation        0\n",
              " relationship      0\n",
              " race              0\n",
              " sex               0\n",
              " capital-gain      0\n",
              " capital-loss      0\n",
              " hours-per-week    0\n",
              " native-country    0\n",
              " income            0\n",
              "dtype: int64"
            ]
          },
          "metadata": {
            "tags": []
          },
          "execution_count": 25
        }
      ]
    },
    {
      "cell_type": "code",
      "metadata": {
        "id": "f8LzQusqnVHX"
      },
      "source": [
        "X = df.drop(' income', axis=1)\r\n",
        "y = df[' income']"
      ],
      "execution_count": 26,
      "outputs": []
    },
    {
      "cell_type": "code",
      "metadata": {
        "colab": {
          "base_uri": "https://localhost:8080/"
        },
        "id": "ToKnbfTNn-Te",
        "outputId": "198cb7e9-8242-4b0e-9597-bed6555798c1"
      },
      "source": [
        "y.shape"
      ],
      "execution_count": 27,
      "outputs": [
        {
          "output_type": "execute_result",
          "data": {
            "text/plain": [
              "(32561,)"
            ]
          },
          "metadata": {
            "tags": []
          },
          "execution_count": 27
        }
      ]
    },
    {
      "cell_type": "code",
      "metadata": {
        "colab": {
          "base_uri": "https://localhost:8080/"
        },
        "id": "iC4N6SsVpRe_",
        "outputId": "90d54c36-39f6-4fd4-8c8b-42fda354bae3"
      },
      "source": [
        "y.value_counts()"
      ],
      "execution_count": 28,
      "outputs": [
        {
          "output_type": "execute_result",
          "data": {
            "text/plain": [
              " <=50K    24720\n",
              " >50K      7841\n",
              "Name:  income, dtype: int64"
            ]
          },
          "metadata": {
            "tags": []
          },
          "execution_count": 28
        }
      ]
    },
    {
      "cell_type": "markdown",
      "metadata": {
        "id": "Tas8ov0arigN"
      },
      "source": [
        "#KFold"
      ]
    },
    {
      "cell_type": "code",
      "metadata": {
        "id": "rIXAx7PjrWZh"
      },
      "source": [
        "from sklearn.model_selection import KFold"
      ],
      "execution_count": 29,
      "outputs": []
    },
    {
      "cell_type": "code",
      "metadata": {
        "id": "8Dqx2ujpr6Fr"
      },
      "source": [
        "kf=KFold(n_splits=5, shuffle=False, random_state=None)"
      ],
      "execution_count": 30,
      "outputs": []
    },
    {
      "cell_type": "code",
      "metadata": {
        "colab": {
          "base_uri": "https://localhost:8080/"
        },
        "id": "yzUf_TPmsHKp",
        "outputId": "6ade52c8-e73a-428b-d7c4-224771aef55f"
      },
      "source": [
        "i=0\r\n",
        "for train_set ,test_set in  kf.split(X=X):\r\n",
        "   print(train_set,\"having\",len(train_set))\r\n",
        "   print(test_set, \" having :\",len(test_set))\r\n",
        "   i+=1;\r\n",
        "print(i)"
      ],
      "execution_count": 31,
      "outputs": [
        {
          "output_type": "stream",
          "text": [
            "[ 6513  6514  6515 ... 32558 32559 32560] having 26048\n",
            "[   0    1    2 ... 6510 6511 6512]  having : 6513\n",
            "[    0     1     2 ... 32558 32559 32560] having 26049\n",
            "[ 6513  6514  6515 ... 13022 13023 13024]  having : 6512\n",
            "[    0     1     2 ... 32558 32559 32560] having 26049\n",
            "[13025 13026 13027 ... 19534 19535 19536]  having : 6512\n",
            "[    0     1     2 ... 32558 32559 32560] having 26049\n",
            "[19537 19538 19539 ... 26046 26047 26048]  having : 6512\n",
            "[    0     1     2 ... 26046 26047 26048] having 26049\n",
            "[26049 26050 26051 ... 32558 32559 32560]  having : 6512\n",
            "5\n"
          ],
          "name": "stdout"
        }
      ]
    },
    {
      "cell_type": "code",
      "metadata": {
        "colab": {
          "base_uri": "https://localhost:8080/"
        },
        "id": "0kVzvCfEvBc-",
        "outputId": "c4889c1b-d467-4154-b49a-68d3e06d3c29"
      },
      "source": [
        "num_column=X.select_dtypes(include=np.number).columns\r\n",
        "num_column"
      ],
      "execution_count": 32,
      "outputs": [
        {
          "output_type": "execute_result",
          "data": {
            "text/plain": [
              "Index(['age', ' fnlwgt', ' education-num', ' capital-gain', ' capital-loss',\n",
              "       ' hours-per-week'],\n",
              "      dtype='object')"
            ]
          },
          "metadata": {
            "tags": []
          },
          "execution_count": 32
        }
      ]
    },
    {
      "cell_type": "code",
      "metadata": {
        "id": "yXhuBRrwsNKq"
      },
      "source": [
        "from sklearn.preprocessing import OneHotEncoder,RobustScaler\r\n",
        "from sklearn.compose import ColumnTransformer\r\n",
        "from sklearn.pipeline import Pipeline\r\n"
      ],
      "execution_count": 33,
      "outputs": []
    },
    {
      "cell_type": "code",
      "metadata": {
        "colab": {
          "base_uri": "https://localhost:8080/"
        },
        "id": "hdIPie0Dymiv",
        "outputId": "b1a5a7f3-9583-471e-e51e-20a4d33a5f80"
      },
      "source": [
        "cat_column=X.select_dtypes(exclude=np.number).columns\r\n",
        "cat_column"
      ],
      "execution_count": 34,
      "outputs": [
        {
          "output_type": "execute_result",
          "data": {
            "text/plain": [
              "Index([' workclass', ' education', ' marital-status', ' occupation',\n",
              "       ' relationship', ' race', ' sex', ' native-country'],\n",
              "      dtype='object')"
            ]
          },
          "metadata": {
            "tags": []
          },
          "execution_count": 34
        }
      ]
    },
    {
      "cell_type": "code",
      "metadata": {
        "id": "ZkbGHQB-zU_O"
      },
      "source": [
        "ct = ColumnTransformer([\r\n",
        "    ('rob', RobustScaler(), num_column),\r\n",
        "    ('ohe', OneHotEncoder(sparse=False, handle_unknown='ignore'), cat_column)\r\n",
        "])\r\n"
      ],
      "execution_count": 35,
      "outputs": []
    },
    {
      "cell_type": "code",
      "metadata": {
        "id": "yP0qcHbgz477"
      },
      "source": [
        "from sklearn.ensemble import RandomForestClassifier"
      ],
      "execution_count": 36,
      "outputs": []
    },
    {
      "cell_type": "code",
      "metadata": {
        "id": "gaGzJW5OzxKT"
      },
      "source": [
        "pipe = Pipeline([\r\n",
        "    ('ct_step', ct),\r\n",
        "    ('model', RandomForestClassifier(n_estimators=10, random_state=0))\r\n",
        "])"
      ],
      "execution_count": 37,
      "outputs": []
    },
    {
      "cell_type": "code",
      "metadata": {
        "colab": {
          "base_uri": "https://localhost:8080/"
        },
        "id": "VucU6vAa0byp",
        "outputId": "40ce77a0-e03c-4718-a32a-75fd39f05b02"
      },
      "source": [
        "scores = []\r\n",
        "i = 1\r\n",
        "for train_set, test_set in kf.split(X):\r\n",
        "    pipe.fit(X.loc[train_set], y[train_set])\r\n",
        "    sco = pipe.score(X.loc[test_set], y[test_set])\r\n",
        "    scores.append(sco)\r\n",
        "    print(\"iteration \", i)\r\n",
        "    i += 1\r\n"
      ],
      "execution_count": 38,
      "outputs": [
        {
          "output_type": "stream",
          "text": [
            "iteration  1\n",
            "iteration  2\n",
            "iteration  3\n",
            "iteration  4\n",
            "iteration  5\n"
          ],
          "name": "stdout"
        }
      ]
    },
    {
      "cell_type": "code",
      "metadata": {
        "colab": {
          "base_uri": "https://localhost:8080/"
        },
        "id": "Cg15eZky3dzx",
        "outputId": "84a2096b-11cd-4f1d-f6bf-fd401fbb76b2"
      },
      "source": [
        "np.array(scores)"
      ],
      "execution_count": 39,
      "outputs": [
        {
          "output_type": "execute_result",
          "data": {
            "text/plain": [
              "array([0.84784278, 0.84520885, 0.84613022, 0.84858722, 0.85165848])"
            ]
          },
          "metadata": {
            "tags": []
          },
          "execution_count": 39
        }
      ]
    },
    {
      "cell_type": "code",
      "metadata": {
        "colab": {
          "base_uri": "https://localhost:8080/"
        },
        "id": "zKtacHD_3ikp",
        "outputId": "a8155dfe-03d2-476a-ad29-cc6448fbc8d4"
      },
      "source": [
        "np.array(scores).mean()\r\n"
      ],
      "execution_count": 40,
      "outputs": [
        {
          "output_type": "execute_result",
          "data": {
            "text/plain": [
              "0.8478855085142512"
            ]
          },
          "metadata": {
            "tags": []
          },
          "execution_count": 40
        }
      ]
    },
    {
      "cell_type": "code",
      "metadata": {
        "colab": {
          "base_uri": "https://localhost:8080/"
        },
        "id": "zgVTfJdc36-3",
        "outputId": "2a58f2f2-bb3a-4c59-9df4-57f985c61a59"
      },
      "source": [
        "np.array(scores).std()"
      ],
      "execution_count": 41,
      "outputs": [
        {
          "output_type": "execute_result",
          "data": {
            "text/plain": [
              "0.0022349531977626388"
            ]
          },
          "metadata": {
            "tags": []
          },
          "execution_count": 41
        }
      ]
    },
    {
      "cell_type": "code",
      "metadata": {
        "id": "h56uXMmd4O8c"
      },
      "source": [
        "from sklearn.model_selection import StratifiedKFold\r\n",
        "skf=StratifiedKFold()"
      ],
      "execution_count": 42,
      "outputs": []
    },
    {
      "cell_type": "code",
      "metadata": {
        "colab": {
          "base_uri": "https://localhost:8080/"
        },
        "id": "SH5XXd6Q4Tee",
        "outputId": "aa2270a3-287b-4041-db53-8d7a9df1e69b"
      },
      "source": [
        "scores_skf = []\r\n",
        "i = 1\r\n",
        "for train_set, test_set in skf.split(X,y):\r\n",
        "    pipe.fit(X.loc[train_set], y[train_set])\r\n",
        "    sco = pipe.score(X.loc[test_set], y[test_set])\r\n",
        "    scores_skf.append(sco)\r\n",
        "    print(\"iteration \", i)\r\n",
        "    i += 1\r\n"
      ],
      "execution_count": 43,
      "outputs": [
        {
          "output_type": "stream",
          "text": [
            "iteration  1\n",
            "iteration  2\n",
            "iteration  3\n",
            "iteration  4\n",
            "iteration  5\n"
          ],
          "name": "stdout"
        }
      ]
    },
    {
      "cell_type": "code",
      "metadata": {
        "colab": {
          "base_uri": "https://localhost:8080/"
        },
        "id": "yx6StGP64tX7",
        "outputId": "1fbee6e1-0925-48e4-f54d-a54329d37dec"
      },
      "source": [
        "np.array(scores_skf)"
      ],
      "execution_count": 44,
      "outputs": [
        {
          "output_type": "execute_result",
          "data": {
            "text/plain": [
              "array([0.84738216, 0.84321253, 0.84213759, 0.84259828, 0.85365479])"
            ]
          },
          "metadata": {
            "tags": []
          },
          "execution_count": 44
        }
      ]
    },
    {
      "cell_type": "code",
      "metadata": {
        "colab": {
          "base_uri": "https://localhost:8080/"
        },
        "id": "W9ZTGdwP42k2",
        "outputId": "74286759-77c9-4b77-c527-5ca9c265ec4e"
      },
      "source": [
        "np.array(scores_skf).mean()"
      ],
      "execution_count": 45,
      "outputs": [
        {
          "output_type": "execute_result",
          "data": {
            "text/plain": [
              "0.8457970705725197"
            ]
          },
          "metadata": {
            "tags": []
          },
          "execution_count": 45
        }
      ]
    },
    {
      "cell_type": "code",
      "metadata": {
        "colab": {
          "base_uri": "https://localhost:8080/"
        },
        "id": "WEy7360e4-YS",
        "outputId": "5d762827-8982-4277-e398-65824a83e4e9"
      },
      "source": [
        "np.array(scores_skf).std()"
      ],
      "execution_count": 46,
      "outputs": [
        {
          "output_type": "execute_result",
          "data": {
            "text/plain": [
              "0.004348796764874436"
            ]
          },
          "metadata": {
            "tags": []
          },
          "execution_count": 46
        }
      ]
    },
    {
      "cell_type": "code",
      "metadata": {
        "colab": {
          "base_uri": "https://localhost:8080/"
        },
        "id": "w5cxVF-h5BmK",
        "outputId": "0aba75d7-1694-418e-8511-6b039cd46a5d"
      },
      "source": [
        "scores_skf = []\r\n",
        "i = 1\r\n",
        "for train_set, test_set in skf.split(X=X,y=y):\r\n",
        "    pipe.fit(X.loc[train_set], y[train_set])\r\n",
        "    sco = pipe.score(X.loc[test_set], y[test_set])\r\n",
        "    print(\"y train counts\",y[train_set].value_counts())\r\n",
        "    print(\"y test counts\",y[test_set].value_counts())\r\n",
        "    scores_skf.append(sco)\r\n",
        "    print(\"iteration \", i)\r\n",
        "    i += 1"
      ],
      "execution_count": 71,
      "outputs": [
        {
          "output_type": "stream",
          "text": [
            "y train counts  <=50K    19776\n",
            " >50K      6272\n",
            "Name:  income, dtype: int64\n",
            "y test counts  <=50K    4944\n",
            " >50K     1569\n",
            "Name:  income, dtype: int64\n",
            "iteration  1\n",
            "y train counts  <=50K    19776\n",
            " >50K      6273\n",
            "Name:  income, dtype: int64\n",
            "y test counts  <=50K    4944\n",
            " >50K     1568\n",
            "Name:  income, dtype: int64\n",
            "iteration  2\n",
            "y train counts  <=50K    19776\n",
            " >50K      6273\n",
            "Name:  income, dtype: int64\n",
            "y test counts  <=50K    4944\n",
            " >50K     1568\n",
            "Name:  income, dtype: int64\n",
            "iteration  3\n",
            "y train counts  <=50K    19776\n",
            " >50K      6273\n",
            "Name:  income, dtype: int64\n",
            "y test counts  <=50K    4944\n",
            " >50K     1568\n",
            "Name:  income, dtype: int64\n",
            "iteration  4\n",
            "y train counts  <=50K    19776\n",
            " >50K      6273\n",
            "Name:  income, dtype: int64\n",
            "y test counts  <=50K    4944\n",
            " >50K     1568\n",
            "Name:  income, dtype: int64\n",
            "iteration  5\n"
          ],
          "name": "stdout"
        }
      ]
    },
    {
      "cell_type": "code",
      "metadata": {
        "id": "hjQoKf_5umAL"
      },
      "source": [
        "from sklearn.model_selection import  cross_val_score, LeaveOneOut,RepeatedKFold,train_test_split"
      ],
      "execution_count": 63,
      "outputs": []
    },
    {
      "cell_type": "code",
      "metadata": {
        "id": "WXx1rzHputr_"
      },
      "source": [
        "result_kf = cross_val_score(estimator=pipe, X=X, y=y, scoring='accuracy', cv=5)\r\n"
      ],
      "execution_count": 64,
      "outputs": []
    },
    {
      "cell_type": "code",
      "metadata": {
        "colab": {
          "base_uri": "https://localhost:8080/"
        },
        "id": "XKPxCT5duwgK",
        "outputId": "310093ad-1171-4235-b6cb-9a1c21126279"
      },
      "source": [
        "result_kf"
      ],
      "execution_count": 65,
      "outputs": [
        {
          "output_type": "execute_result",
          "data": {
            "text/plain": [
              "array([0.84738216, 0.84321253, 0.84213759, 0.84259828, 0.85365479])"
            ]
          },
          "metadata": {
            "tags": []
          },
          "execution_count": 65
        }
      ]
    },
    {
      "cell_type": "code",
      "metadata": {
        "colab": {
          "base_uri": "https://localhost:8080/"
        },
        "id": "_U3OsvPMuz7K",
        "outputId": "6f62c266-1ebe-49a0-ca1c-a10a584e698c"
      },
      "source": [
        "start = time.time()\r\n",
        "result_kf10 = cross_val_score(estimator=pipe, X=X, y=y, scoring='accuracy', cv=KFold(n_splits=10))\r\n",
        "result_kf10\r\n",
        "print(\"time taken: \", time.time()-start)"
      ],
      "execution_count": 51,
      "outputs": [
        {
          "output_type": "stream",
          "text": [
            "time taken:  6.760603904724121\n"
          ],
          "name": "stdout"
        }
      ]
    },
    {
      "cell_type": "code",
      "metadata": {
        "colab": {
          "base_uri": "https://localhost:8080/"
        },
        "id": "XAQL8Ctju1qX",
        "outputId": "a2682609-b9ea-4fc3-8852-e0e41ce1b31c"
      },
      "source": [
        "result_kf10\r\n"
      ],
      "execution_count": 52,
      "outputs": [
        {
          "output_type": "execute_result",
          "data": {
            "text/plain": [
              "array([0.83880872, 0.85165848, 0.84981572, 0.84367322, 0.85135135,\n",
              "       0.84613022, 0.84520885, 0.84797297, 0.8544226 , 0.84459459])"
            ]
          },
          "metadata": {
            "tags": []
          },
          "execution_count": 52
        }
      ]
    },
    {
      "cell_type": "code",
      "metadata": {
        "colab": {
          "base_uri": "https://localhost:8080/"
        },
        "id": "QGGDdiAKu4Z6",
        "outputId": "72d837ef-0939-4b04-d919-77bb65b92534"
      },
      "source": [
        "start = time.time()\r\n",
        "result_loocv = cross_val_score(estimator=pipe, X=X.head(100), y=y.head(100),\r\n",
        "                               scoring='accuracy', cv=LeaveOneOut())\r\n",
        "print(\"time taken: \", time.time()-start)"
      ],
      "execution_count": 53,
      "outputs": [
        {
          "output_type": "stream",
          "text": [
            "time taken:  3.1375362873077393\n"
          ],
          "name": "stdout"
        }
      ]
    },
    {
      "cell_type": "code",
      "metadata": {
        "colab": {
          "base_uri": "https://localhost:8080/"
        },
        "id": "CmInBHxXu7ID",
        "outputId": "261dd28c-17fb-4cce-bf36-7ea994cbbac4"
      },
      "source": [
        "result_loocv.mean()\r\n",
        "result_loocv"
      ],
      "execution_count": 73,
      "outputs": [
        {
          "output_type": "execute_result",
          "data": {
            "text/plain": [
              "array([1., 1., 1., 1., 1., 1., 1., 0., 0., 0., 0., 0., 1., 1., 0., 1., 1.,\n",
              "       1., 1., 0., 1., 1., 1., 1., 1., 1., 1., 1., 1., 1., 1., 1., 1., 1.,\n",
              "       0., 1., 1., 1., 0., 1., 1., 1., 1., 1., 1., 0., 1., 1., 1., 1., 1.,\n",
              "       1., 1., 0., 1., 0., 1., 1., 1., 1., 1., 1., 1., 0., 1., 1., 1., 0.,\n",
              "       0., 1., 1., 1., 0., 1., 1., 1., 1., 1., 1., 1., 1., 1., 1., 1., 0.,\n",
              "       1., 0., 1., 1., 1., 1., 1., 1., 1., 0., 1., 1., 0., 1., 1.])"
            ]
          },
          "metadata": {
            "tags": []
          },
          "execution_count": 73
        }
      ]
    },
    {
      "cell_type": "code",
      "metadata": {
        "colab": {
          "base_uri": "https://localhost:8080/"
        },
        "id": "e0_41XlRu9bi",
        "outputId": "b2ea657b-c7d9-49ce-8481-0df39fc0e472"
      },
      "source": [
        "start = time.time()\r\n",
        "result_rkf = cross_val_score(estimator=pipe, X=X, y=y, scoring='accuracy',\r\n",
        "                              cv=RepeatedKFold(n_splits=5, n_repeats=5))\r\n",
        "result_rkf\r\n",
        "print(\"time taken: \", time.time()-start)"
      ],
      "execution_count": 55,
      "outputs": [
        {
          "output_type": "stream",
          "text": [
            "time taken:  14.464894771575928\n"
          ],
          "name": "stdout"
        }
      ]
    },
    {
      "cell_type": "code",
      "metadata": {
        "id": "mpKxOlbMvE5h"
      },
      "source": [
        "X_train, X_test, y_train, y_test = train_test_split(X, y, test_size=0.2, random_state=0)\r\n"
      ],
      "execution_count": 56,
      "outputs": []
    },
    {
      "cell_type": "code",
      "metadata": {
        "colab": {
          "base_uri": "https://localhost:8080/"
        },
        "id": "UsE4qrABnvOo",
        "outputId": "a3f39258-e6e4-4fef-9dc4-1be67ab55f0c"
      },
      "source": [
        "sorted(sklearn.metrics.SCORERS.keys())"
      ],
      "execution_count": 68,
      "outputs": [
        {
          "output_type": "execute_result",
          "data": {
            "text/plain": [
              "['accuracy',\n",
              " 'adjusted_mutual_info_score',\n",
              " 'adjusted_rand_score',\n",
              " 'average_precision',\n",
              " 'balanced_accuracy',\n",
              " 'completeness_score',\n",
              " 'explained_variance',\n",
              " 'f1',\n",
              " 'f1_macro',\n",
              " 'f1_micro',\n",
              " 'f1_samples',\n",
              " 'f1_weighted',\n",
              " 'fowlkes_mallows_score',\n",
              " 'homogeneity_score',\n",
              " 'jaccard',\n",
              " 'jaccard_macro',\n",
              " 'jaccard_micro',\n",
              " 'jaccard_samples',\n",
              " 'jaccard_weighted',\n",
              " 'max_error',\n",
              " 'mutual_info_score',\n",
              " 'neg_brier_score',\n",
              " 'neg_log_loss',\n",
              " 'neg_mean_absolute_error',\n",
              " 'neg_mean_gamma_deviance',\n",
              " 'neg_mean_poisson_deviance',\n",
              " 'neg_mean_squared_error',\n",
              " 'neg_mean_squared_log_error',\n",
              " 'neg_median_absolute_error',\n",
              " 'neg_root_mean_squared_error',\n",
              " 'normalized_mutual_info_score',\n",
              " 'precision',\n",
              " 'precision_macro',\n",
              " 'precision_micro',\n",
              " 'precision_samples',\n",
              " 'precision_weighted',\n",
              " 'r2',\n",
              " 'recall',\n",
              " 'recall_macro',\n",
              " 'recall_micro',\n",
              " 'recall_samples',\n",
              " 'recall_weighted',\n",
              " 'roc_auc',\n",
              " 'roc_auc_ovo',\n",
              " 'roc_auc_ovo_weighted',\n",
              " 'roc_auc_ovr',\n",
              " 'roc_auc_ovr_weighted',\n",
              " 'v_measure_score']"
            ]
          },
          "metadata": {
            "tags": []
          },
          "execution_count": 68
        }
      ]
    },
    {
      "cell_type": "code",
      "metadata": {
        "colab": {
          "base_uri": "https://localhost:8080/"
        },
        "id": "RMLXCfhvvIJ9",
        "outputId": "85a95682-54b6-43af-b09e-788a94887b9e"
      },
      "source": [
        "start = time.time()\r\n",
        "result_tts = cross_val_score(estimator=pipe, X=X_train, y=y_train,\r\n",
        "                              scoring='accuracy', cv=KFold(n_splits=5))\r\n",
        "print(\"time taken: \", time.time()-start)"
      ],
      "execution_count": 69,
      "outputs": [
        {
          "output_type": "stream",
          "text": [
            "time taken:  2.355781078338623\n"
          ],
          "name": "stdout"
        }
      ]
    },
    {
      "cell_type": "code",
      "metadata": {
        "id": "z-CiJhm2vRO-",
        "colab": {
          "base_uri": "https://localhost:8080/"
        },
        "outputId": "7480d1c9-3213-4784-b847-4bc77cbbedb2"
      },
      "source": [
        "result_tts\r\n"
      ],
      "execution_count": 58,
      "outputs": [
        {
          "output_type": "execute_result",
          "data": {
            "text/plain": [
              "array([0.85547025, 0.84702495, 0.84184261, 0.84661163, 0.84968324])"
            ]
          },
          "metadata": {
            "tags": []
          },
          "execution_count": 58
        }
      ]
    },
    {
      "cell_type": "code",
      "metadata": {
        "colab": {
          "base_uri": "https://localhost:8080/"
        },
        "id": "y_GVGGl7vS24",
        "outputId": "40993da3-0c71-461e-949e-e6007324374e"
      },
      "source": [
        "pipe.fit(X_train, y_train)\r\n"
      ],
      "execution_count": 59,
      "outputs": [
        {
          "output_type": "execute_result",
          "data": {
            "text/plain": [
              "Pipeline(memory=None,\n",
              "         steps=[('ct_step',\n",
              "                 ColumnTransformer(n_jobs=None, remainder='drop',\n",
              "                                   sparse_threshold=0.3,\n",
              "                                   transformer_weights=None,\n",
              "                                   transformers=[('rob',\n",
              "                                                  RobustScaler(copy=True,\n",
              "                                                               quantile_range=(25.0,\n",
              "                                                                               75.0),\n",
              "                                                               with_centering=True,\n",
              "                                                               with_scaling=True),\n",
              "                                                  Index(['age', ' fnlwgt', ' education-num', ' capital-gain', ' capital-loss',\n",
              "       ' hours-per-week'],\n",
              "      dtype='object')),\n",
              "                                                 ('ohe...\n",
              "                 RandomForestClassifier(bootstrap=True, ccp_alpha=0.0,\n",
              "                                        class_weight=None, criterion='gini',\n",
              "                                        max_depth=None, max_features='auto',\n",
              "                                        max_leaf_nodes=None, max_samples=None,\n",
              "                                        min_impurity_decrease=0.0,\n",
              "                                        min_impurity_split=None,\n",
              "                                        min_samples_leaf=1, min_samples_split=2,\n",
              "                                        min_weight_fraction_leaf=0.0,\n",
              "                                        n_estimators=10, n_jobs=None,\n",
              "                                        oob_score=False, random_state=0,\n",
              "                                        verbose=0, warm_start=False))],\n",
              "         verbose=False)"
            ]
          },
          "metadata": {
            "tags": []
          },
          "execution_count": 59
        }
      ]
    },
    {
      "cell_type": "code",
      "metadata": {
        "colab": {
          "base_uri": "https://localhost:8080/"
        },
        "id": "N73bL0zNvUht",
        "outputId": "d7787aff-721e-451c-e3b8-c527c9bfebaf"
      },
      "source": [
        "pipe.score(X_test, y_test)\r\n"
      ],
      "execution_count": 60,
      "outputs": [
        {
          "output_type": "execute_result",
          "data": {
            "text/plain": [
              "0.8446184553968985"
            ]
          },
          "metadata": {
            "tags": []
          },
          "execution_count": 60
        }
      ]
    },
    {
      "cell_type": "code",
      "metadata": {
        "colab": {
          "base_uri": "https://localhost:8080/"
        },
        "id": "1Q2k9W-MvY4m",
        "outputId": "2b22f611-098a-41f7-d273-73f404b93858"
      },
      "source": [
        "import sklearn\r\n",
        "sorted(sklearn.metrics.SCORERS.keys())"
      ],
      "execution_count": 66,
      "outputs": [
        {
          "output_type": "execute_result",
          "data": {
            "text/plain": [
              "['accuracy',\n",
              " 'adjusted_mutual_info_score',\n",
              " 'adjusted_rand_score',\n",
              " 'average_precision',\n",
              " 'balanced_accuracy',\n",
              " 'completeness_score',\n",
              " 'explained_variance',\n",
              " 'f1',\n",
              " 'f1_macro',\n",
              " 'f1_micro',\n",
              " 'f1_samples',\n",
              " 'f1_weighted',\n",
              " 'fowlkes_mallows_score',\n",
              " 'homogeneity_score',\n",
              " 'jaccard',\n",
              " 'jaccard_macro',\n",
              " 'jaccard_micro',\n",
              " 'jaccard_samples',\n",
              " 'jaccard_weighted',\n",
              " 'max_error',\n",
              " 'mutual_info_score',\n",
              " 'neg_brier_score',\n",
              " 'neg_log_loss',\n",
              " 'neg_mean_absolute_error',\n",
              " 'neg_mean_gamma_deviance',\n",
              " 'neg_mean_poisson_deviance',\n",
              " 'neg_mean_squared_error',\n",
              " 'neg_mean_squared_log_error',\n",
              " 'neg_median_absolute_error',\n",
              " 'neg_root_mean_squared_error',\n",
              " 'normalized_mutual_info_score',\n",
              " 'precision',\n",
              " 'precision_macro',\n",
              " 'precision_micro',\n",
              " 'precision_samples',\n",
              " 'precision_weighted',\n",
              " 'r2',\n",
              " 'recall',\n",
              " 'recall_macro',\n",
              " 'recall_micro',\n",
              " 'recall_samples',\n",
              " 'recall_weighted',\n",
              " 'roc_auc',\n",
              " 'roc_auc_ovo',\n",
              " 'roc_auc_ovo_weighted',\n",
              " 'roc_auc_ovr',\n",
              " 'roc_auc_ovr_weighted',\n",
              " 'v_measure_score']"
            ]
          },
          "metadata": {
            "tags": []
          },
          "execution_count": 66
        }
      ]
    }
  ]
}